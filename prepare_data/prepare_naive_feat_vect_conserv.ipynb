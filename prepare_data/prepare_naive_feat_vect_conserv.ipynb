{
 "cells": [
  {
   "cell_type": "code",
   "execution_count": 1,
   "metadata": {
    "collapsed": false
   },
   "outputs": [],
   "source": [
    "import os,subprocess\n",
    "workdir='/nagyvinyok/adat84/sotejedlik/ribli/expression/prepare_data'\n",
    "subprocess.call(['mkdir',workdir])\n",
    "os.chdir(workdir)\n",
    "\n",
    "import time\n",
    "import pandas as pd\n",
    "import numpy as np\n",
    "\n",
    "import matplotlib.pyplot as plt\n",
    "import matplotlib as mpl\n",
    "\n",
    "mpl.style.use('ggplot')\n",
    "%matplotlib inline"
   ]
  },
  {
   "cell_type": "markdown",
   "metadata": {},
   "source": [
    "### Filename tcga barcode mappings"
   ]
  },
  {
   "cell_type": "code",
   "execution_count": 2,
   "metadata": {
    "collapsed": false
   },
   "outputs": [],
   "source": [
    "fs_map=pd.read_csv('../data/brca_rnaseq/FILE_SAMPLE_MAP.txt',sep='\\t')\n",
    "#fs_map=fs_map.iloc[:-1,:]\n",
    "fs_dict={}\n",
    "for i in xrange(len(fs_map)):\n",
    "    fs_dict[fs_map.iloc[i,0]]=fs_map.iloc[i,1]\n",
    "    \n",
    "    \n",
    "tum_dict={}\n",
    "for i in xrange(len(fs_map)):\n",
    "    if ( fs_map.iloc[i,1].split('-')[3][0]=='0'):\n",
    "        tum_dict[fs_map.iloc[i,0]]='tumor'\n",
    "    else:\n",
    "        tum_dict[fs_map.iloc[i,0]]='normal'"
   ]
  },
  {
   "cell_type": "markdown",
   "metadata": {},
   "source": [
    "### Load all normal data"
   ]
  },
  {
   "cell_type": "code",
   "execution_count": 3,
   "metadata": {
    "collapsed": true
   },
   "outputs": [],
   "source": [
    "datadir='../data/brca_rnaseq/RNASeqV2/UNC__IlluminaHiSeq_RNASeqV2/Level_3/'"
   ]
  },
  {
   "cell_type": "code",
   "execution_count": 4,
   "metadata": {
    "collapsed": false
   },
   "outputs": [
    {
     "name": "stdout",
     "output_type": "stream",
     "text": [
      ". . . . . . . . . . . . . . . . . . . . . . . . . . . . . . . . . . . . . . . . . . . . . . . . . . . . . . . . . . . . . . . . . . . . . . . . . . . . . . . . . . . . . . . . . . . . . . . . . . . . 100 . . . . . . . . . . . . . . . . . . . . . . . . . . . . . . . . . . . . . . . . . . . . . . . . . . . . . . . . . . . . . . . . . . . . . . . . . . . . . . . . . . . . . . . . . . . . . . . . . . . . 200 . . . . . . . . . . . . . . . . . . . . . . . . . . . . . . . . . . . . . . . . . . . . . . . . . . . . . . . . . . . . . . . . . . . . . . . . . . . . . . . . . . . . . . . . . . . . . . . . . . . . 300 . . . . . . . . . . . . . . . . . . . . . . . . . . . . . . . . . . . . . . . . . . . . . . . . . . . . . . . . . . . . . . . . . . . . . . . . . . . . . . . . . . . . . . . . . . . . . . . . . . . . 400 . . . . . . . . . . . . . . . . . . . . . . . . . . . . . . . . . . . . . . . . . . . . . . . . . . . . . . . . . . . . . . . . . . . . . . . . . . . . . . . . . . . . . . . . . . . . . . . . . . . . 500 . . . . . . . . . . . . . . . . . . . . . . . . . . . . . . . . . . . . . . . . . . . . . . . . . . . . . . . . . . . . . . . . . . . . . . . . . . . . . . . . . . . . . . . . . . . . . . . . . . . . 600 . . . . . . . . . . . . . . . . . . . . . . . . . . . . . . . . . . . . . . . . . . . . . . . . . . . . . . . . . . . . . . . . . . . . . . . . . . . . . . . . . . . . . . . . . . . . . . . . . . . . 700 . . . . . . . . . . . . . . . . . . . . . . . . . . . . . . . . . . . . . . . . . . . . . . . . . . . . . . . . . . . . . . . . . . . . . . . . . . . . . . . . . . . . . . . . . . . . . . . . . . . . 800 . . . . . . . . . . . . . . . . . . . . . . . . . . . . . . . . . . . . . . . . . . . . . . . . . . . . . . . . . . . . . . . . . . . . . . . . . . . . . . . . . . . . . . . . . . . . . . . . . . . . 900 . . . . . . . . . . . . . . . . . . . . . . . . . . . . . . . . . . . . . . . . . . . . . . . . . . . . . . . . . . . . . . . . . . . . . . . . . . . . . . . . . . . . . . . . . . . . . . . . . . . . 1000 . . . . . . . . . . . . . . . . . . . . . . . . . . . . . . . . . . . . . . . . . . . . . . . . . . . . . . . . . . . . . . . . . . . . . . . . . . . . . . . . . . . . . . . . . . . . . . . . . . . . 1100 . . . . . . . . . . . . . . . . . . . . . . . . . . . . . . . . . . . . . . . . . . . . . . . . . . . . . . . . . . . . . . . . . . . . . . . . . . . . . . . . . . . . . . . . . . . . . . . . . . . . 1200 . . . . . . . . . . . . . . .\n"
     ]
    }
   ],
   "source": [
    "import gc\n",
    "import os\n",
    "from glob import glob\n",
    "df_list,tum_list,norm_list=[],[],[]\n",
    "gene_df=pd.DataFrame()\n",
    "i=0\n",
    "for filename in glob(datadir+'*junction_quantification.txt'):\n",
    "    fname=os.path.basename(filename)\n",
    "    \n",
    "    #df_list.append(tmp_df[['RPKM']])\n",
    "    if tum_dict[fname]=='tumor':\n",
    "        'nothing'\n",
    "        #tum_list.append(tmp_df[['RPKM']])\n",
    "    else:\n",
    "        tmp_df=pd.read_csv(filename, sep='\\t',header=0)\n",
    "        gene_df=tmp_df.junction\n",
    "        norm_list.append(tmp_df[['raw_counts']])\n",
    "        \n",
    "    print '.',\n",
    "    i+=1\n",
    "    if i%100==0:\n",
    "        print i,\n",
    "    gc.collect()"
   ]
  },
  {
   "cell_type": "markdown",
   "metadata": {},
   "source": [
    "### Create Psi data"
   ]
  },
  {
   "cell_type": "code",
   "execution_count": 5,
   "metadata": {
    "collapsed": false
   },
   "outputs": [
    {
     "data": {
      "text/html": [
       "<div>\n",
       "<table border=\"1\" class=\"dataframe\">\n",
       "  <thead>\n",
       "    <tr style=\"text-align: right;\">\n",
       "      <th></th>\n",
       "      <th>0</th>\n",
       "      <th>pos1</th>\n",
       "      <th>pos2</th>\n",
       "      <th>chr</th>\n",
       "      <th>strand</th>\n",
       "    </tr>\n",
       "  </thead>\n",
       "  <tbody>\n",
       "    <tr>\n",
       "      <th>0</th>\n",
       "      <td>0</td>\n",
       "      <td>12227</td>\n",
       "      <td>12595</td>\n",
       "      <td>chr1</td>\n",
       "      <td>+</td>\n",
       "    </tr>\n",
       "    <tr>\n",
       "      <th>1</th>\n",
       "      <td>3</td>\n",
       "      <td>12227</td>\n",
       "      <td>12613</td>\n",
       "      <td>chr1</td>\n",
       "      <td>+</td>\n",
       "    </tr>\n",
       "    <tr>\n",
       "      <th>2</th>\n",
       "      <td>0</td>\n",
       "      <td>12227</td>\n",
       "      <td>12646</td>\n",
       "      <td>chr1</td>\n",
       "      <td>+</td>\n",
       "    </tr>\n",
       "    <tr>\n",
       "      <th>3</th>\n",
       "      <td>2</td>\n",
       "      <td>12697</td>\n",
       "      <td>13221</td>\n",
       "      <td>chr1</td>\n",
       "      <td>+</td>\n",
       "    </tr>\n",
       "    <tr>\n",
       "      <th>4</th>\n",
       "      <td>0</td>\n",
       "      <td>12721</td>\n",
       "      <td>13221</td>\n",
       "      <td>chr1</td>\n",
       "      <td>+</td>\n",
       "    </tr>\n",
       "  </tbody>\n",
       "</table>\n",
       "</div>"
      ],
      "text/plain": [
       "   0   pos1   pos2   chr strand\n",
       "0  0  12227  12595  chr1      +\n",
       "1  3  12227  12613  chr1      +\n",
       "2  0  12227  12646  chr1      +\n",
       "3  2  12697  13221  chr1      +\n",
       "4  0  12721  13221  chr1      +"
      ]
     },
     "execution_count": 5,
     "metadata": {},
     "output_type": "execute_result"
    }
   ],
   "source": [
    "n_data_matrix=pd.concat([gene_df]+norm_list,axis=1)\n",
    "data=pd.concat([gene_df]+[n_data_matrix.drop('junction',axis=1).sum(axis=1)],axis=1)\n",
    "\n",
    "n_data_matrix=0\n",
    "norm_list = 0\n",
    "gc.collect()\n",
    "\n",
    "data['chr1']=[x.split(',')[0].split(':')[0] for x in data.junction]\n",
    "data['chr2']=[x.split(',')[1].split(':')[0] for x in data.junction]\n",
    "\n",
    "data['pos1']=[int(x.split(',')[0].split(':')[1]) for x in data.junction]\n",
    "data['pos2']=[int(x.split(',')[1].split(':')[1]) for x in data.junction]\n",
    "\n",
    "data['strand1']=[x.split(',')[0].split(':')[2] for x in data.junction]\n",
    "data['strand2']=[x.split(',')[1].split(':')[2] for x in data.junction]\n",
    "\n",
    "\n",
    "data=data[data.chr1==data.chr2]\n",
    "data['chr']=data.chr1\n",
    "data.drop(['chr1','chr2'],axis=1,inplace=True)\n",
    "\n",
    "data=data[data.strand1==data.strand2]\n",
    "data['strand']=data.strand1\n",
    "data.drop(['strand1','strand2'],axis=1,inplace=True)\n",
    "\n",
    "data.drop('junction',axis=1,inplace=True)\n",
    "\n",
    "data.head()"
   ]
  },
  {
   "cell_type": "code",
   "execution_count": 6,
   "metadata": {
    "collapsed": false
   },
   "outputs": [
    {
     "data": {
      "text/html": [
       "<div>\n",
       "<table border=\"1\" class=\"dataframe\">\n",
       "  <thead>\n",
       "    <tr style=\"text-align: right;\">\n",
       "      <th></th>\n",
       "      <th>0</th>\n",
       "      <th>1</th>\n",
       "      <th>2</th>\n",
       "      <th>3</th>\n",
       "      <th>4</th>\n",
       "      <th>5</th>\n",
       "      <th>6</th>\n",
       "      <th>7</th>\n",
       "      <th>8</th>\n",
       "      <th>9</th>\n",
       "      <th>10</th>\n",
       "      <th>11</th>\n",
       "      <th>12</th>\n",
       "      <th>13</th>\n",
       "      <th>14</th>\n",
       "    </tr>\n",
       "  </thead>\n",
       "  <tbody>\n",
       "    <tr>\n",
       "      <th>0</th>\n",
       "      <td>6463</td>\n",
       "      <td>14829</td>\n",
       "      <td>14970</td>\n",
       "      <td>chr1</td>\n",
       "      <td>-</td>\n",
       "      <td>40</td>\n",
       "      <td>14829</td>\n",
       "      <td>15796</td>\n",
       "      <td>chr1</td>\n",
       "      <td>-</td>\n",
       "      <td>1693</td>\n",
       "      <td>15038</td>\n",
       "      <td>15796</td>\n",
       "      <td>chr1</td>\n",
       "      <td>-</td>\n",
       "    </tr>\n",
       "    <tr>\n",
       "      <th>1</th>\n",
       "      <td>0</td>\n",
       "      <td>17055</td>\n",
       "      <td>17259</td>\n",
       "      <td>chr1</td>\n",
       "      <td>-</td>\n",
       "      <td>1745</td>\n",
       "      <td>17055</td>\n",
       "      <td>17606</td>\n",
       "      <td>chr1</td>\n",
       "      <td>-</td>\n",
       "      <td>12855</td>\n",
       "      <td>17368</td>\n",
       "      <td>17606</td>\n",
       "      <td>chr1</td>\n",
       "      <td>-</td>\n",
       "    </tr>\n",
       "    <tr>\n",
       "      <th>2</th>\n",
       "      <td>12855</td>\n",
       "      <td>17368</td>\n",
       "      <td>17606</td>\n",
       "      <td>chr1</td>\n",
       "      <td>-</td>\n",
       "      <td>30</td>\n",
       "      <td>17368</td>\n",
       "      <td>17915</td>\n",
       "      <td>chr1</td>\n",
       "      <td>-</td>\n",
       "      <td>13253</td>\n",
       "      <td>17742</td>\n",
       "      <td>17915</td>\n",
       "      <td>chr1</td>\n",
       "      <td>-</td>\n",
       "    </tr>\n",
       "    <tr>\n",
       "      <th>3</th>\n",
       "      <td>3579</td>\n",
       "      <td>787490</td>\n",
       "      <td>788051</td>\n",
       "      <td>chr1</td>\n",
       "      <td>+</td>\n",
       "      <td>469</td>\n",
       "      <td>787490</td>\n",
       "      <td>788771</td>\n",
       "      <td>chr1</td>\n",
       "      <td>+</td>\n",
       "      <td>5062</td>\n",
       "      <td>788146</td>\n",
       "      <td>788771</td>\n",
       "      <td>chr1</td>\n",
       "      <td>+</td>\n",
       "    </tr>\n",
       "    <tr>\n",
       "      <th>4</th>\n",
       "      <td>397</td>\n",
       "      <td>908390</td>\n",
       "      <td>908566</td>\n",
       "      <td>chr1</td>\n",
       "      <td>+</td>\n",
       "      <td>8</td>\n",
       "      <td>908390</td>\n",
       "      <td>908880</td>\n",
       "      <td>chr1</td>\n",
       "      <td>+</td>\n",
       "      <td>265</td>\n",
       "      <td>908706</td>\n",
       "      <td>908880</td>\n",
       "      <td>chr1</td>\n",
       "      <td>+</td>\n",
       "    </tr>\n",
       "  </tbody>\n",
       "</table>\n",
       "</div>"
      ],
      "text/plain": [
       "      0       1       2     3  4     5       6       7     8  9      10  \\\n",
       "0   6463   14829   14970  chr1  -    40   14829   15796  chr1  -   1693   \n",
       "1      0   17055   17259  chr1  -  1745   17055   17606  chr1  -  12855   \n",
       "2  12855   17368   17606  chr1  -    30   17368   17915  chr1  -  13253   \n",
       "3   3579  787490  788051  chr1  +   469  787490  788771  chr1  +   5062   \n",
       "4    397  908390  908566  chr1  +     8  908390  908880  chr1  +    265   \n",
       "\n",
       "       11      12    13 14  \n",
       "0   15038   15796  chr1  -  \n",
       "1   17368   17606  chr1  -  \n",
       "2   17742   17915  chr1  -  \n",
       "3  788146  788771  chr1  +  \n",
       "4  908706  908880  chr1  +  "
      ]
     },
     "execution_count": 6,
     "metadata": {},
     "output_type": "execute_result"
    }
   ],
   "source": [
    "jctrip=pd.concat([data[:-2],data[1:-1].reset_index(drop=True),data[2:].reset_index(drop=True)],axis=1,ignore_index=True)\n",
    "\n",
    "cass=jctrip[ (jctrip[1]==jctrip[6]) & (jctrip[7]==jctrip[12]) ].reset_index(drop=True)\n",
    "\n",
    "cass.head()"
   ]
  },
  {
   "cell_type": "code",
   "execution_count": 7,
   "metadata": {
    "collapsed": true
   },
   "outputs": [],
   "source": [
    "#mapping control\n",
    "cass_filt=cass[cass[0]+cass[5]+cass[10] > 20]\n",
    "\n",
    "n_inc= cass_filt[0]+cass_filt[10]\n",
    "n_exc= cass_filt[5]\n",
    "psi=0.5* n_inc /(0.5 * n_inc + n_exc)"
   ]
  },
  {
   "cell_type": "code",
   "execution_count": 8,
   "metadata": {
    "collapsed": false
   },
   "outputs": [
    {
     "name": "stderr",
     "output_type": "stream",
     "text": [
      "/usr/local/lib/python2.7/dist-packages/IPython/html.py:14: ShimWarning: The `IPython.html` package has been deprecated. You should import from `notebook` instead. `IPython.html.widgets` has moved to `ipywidgets`.\n",
      "  \"`IPython.html.widgets` has moved to `ipywidgets`.\", ShimWarning)\n",
      "/usr/lib/python2.7/dist-packages/matplotlib/font_manager.py:1279: UserWarning: findfont: Font family [u'sans-serif'] not found. Falling back to Bitstream Vera Sans\n",
      "  (prop.get_family(), self.defaultFamily[fontext]))\n",
      "/usr/lib/python2.7/dist-packages/matplotlib/font_manager.py:1289: UserWarning: findfont: Could not match :family=Bitstream Vera Sans:style=normal:variant=normal:weight=normal:stretch=normal:size=10.0. Returning /usr/share/matplotlib/mpl-data/fonts/ttf/cmb10.ttf\n",
      "  UserWarning)\n"
     ]
    },
    {
     "data": {
      "image/png": "[encoded data removed]",
      "text/plain": [
       "<matplotlib.figure.Figure at 0x7f70f1d41910>"
      ]
     },
     "metadata": {},
     "output_type": "display_data"
    }
   ],
   "source": [
    "import seaborn as sns\n",
    "plt.figure(figsize=(12,6))\n",
    "dump=sns.distplot(psi,bins=50,kde=False)\n",
    "plt.yscale('log')"
   ]
  },
  {
   "cell_type": "code",
   "execution_count": 9,
   "metadata": {
    "collapsed": false
   },
   "outputs": [
    {
     "name": "stderr",
     "output_type": "stream",
     "text": [
      "/home/ribli/.local/lib/python2.7/site-packages/pandas/core/indexing.py:266: SettingWithCopyWarning: \n",
      "A value is trying to be set on a copy of a slice from a DataFrame.\n",
      "Try using .loc[row_indexer,col_indexer] = value instead\n",
      "\n",
      "See the caveats in the documentation: http://pandas.pydata.org/pandas-docs/stable/indexing.html#indexing-view-versus-copy\n",
      "  self.obj[key] = _infer_fill_value(value)\n",
      "/home/ribli/.local/lib/python2.7/site-packages/pandas/core/indexing.py:426: SettingWithCopyWarning: \n",
      "A value is trying to be set on a copy of a slice from a DataFrame.\n",
      "Try using .loc[row_indexer,col_indexer] = value instead\n",
      "\n",
      "See the caveats in the documentation: http://pandas.pydata.org/pandas-docs/stable/indexing.html#indexing-view-versus-copy\n",
      "  self.obj[item] = s\n"
     ]
    },
    {
     "data": {
      "text/html": [
       "<div>\n",
       "<table border=\"1\" class=\"dataframe\">\n",
       "  <thead>\n",
       "    <tr style=\"text-align: right;\">\n",
       "      <th></th>\n",
       "      <th>0</th>\n",
       "      <th>1</th>\n",
       "      <th>2</th>\n",
       "      <th>3</th>\n",
       "      <th>4</th>\n",
       "      <th>5</th>\n",
       "      <th>6</th>\n",
       "      <th>7</th>\n",
       "      <th>8</th>\n",
       "      <th>9</th>\n",
       "      <th>10</th>\n",
       "      <th>11</th>\n",
       "      <th>12</th>\n",
       "      <th>13</th>\n",
       "      <th>14</th>\n",
       "      <th>psi</th>\n",
       "    </tr>\n",
       "  </thead>\n",
       "  <tbody>\n",
       "    <tr>\n",
       "      <th>0</th>\n",
       "      <td>6463</td>\n",
       "      <td>14829</td>\n",
       "      <td>14970</td>\n",
       "      <td>chr1</td>\n",
       "      <td>-</td>\n",
       "      <td>40</td>\n",
       "      <td>14829</td>\n",
       "      <td>15796</td>\n",
       "      <td>chr1</td>\n",
       "      <td>-</td>\n",
       "      <td>1693</td>\n",
       "      <td>15038</td>\n",
       "      <td>15796</td>\n",
       "      <td>chr1</td>\n",
       "      <td>-</td>\n",
       "      <td>0.990287</td>\n",
       "    </tr>\n",
       "    <tr>\n",
       "      <th>1</th>\n",
       "      <td>0</td>\n",
       "      <td>17055</td>\n",
       "      <td>17259</td>\n",
       "      <td>chr1</td>\n",
       "      <td>-</td>\n",
       "      <td>1745</td>\n",
       "      <td>17055</td>\n",
       "      <td>17606</td>\n",
       "      <td>chr1</td>\n",
       "      <td>-</td>\n",
       "      <td>12855</td>\n",
       "      <td>17368</td>\n",
       "      <td>17606</td>\n",
       "      <td>chr1</td>\n",
       "      <td>-</td>\n",
       "      <td>0.786479</td>\n",
       "    </tr>\n",
       "    <tr>\n",
       "      <th>2</th>\n",
       "      <td>12855</td>\n",
       "      <td>17368</td>\n",
       "      <td>17606</td>\n",
       "      <td>chr1</td>\n",
       "      <td>-</td>\n",
       "      <td>30</td>\n",
       "      <td>17368</td>\n",
       "      <td>17915</td>\n",
       "      <td>chr1</td>\n",
       "      <td>-</td>\n",
       "      <td>13253</td>\n",
       "      <td>17742</td>\n",
       "      <td>17915</td>\n",
       "      <td>chr1</td>\n",
       "      <td>-</td>\n",
       "      <td>0.997707</td>\n",
       "    </tr>\n",
       "    <tr>\n",
       "      <th>3</th>\n",
       "      <td>3579</td>\n",
       "      <td>787490</td>\n",
       "      <td>788051</td>\n",
       "      <td>chr1</td>\n",
       "      <td>+</td>\n",
       "      <td>469</td>\n",
       "      <td>787490</td>\n",
       "      <td>788771</td>\n",
       "      <td>chr1</td>\n",
       "      <td>+</td>\n",
       "      <td>5062</td>\n",
       "      <td>788146</td>\n",
       "      <td>788771</td>\n",
       "      <td>chr1</td>\n",
       "      <td>+</td>\n",
       "      <td>0.902077</td>\n",
       "    </tr>\n",
       "    <tr>\n",
       "      <th>4</th>\n",
       "      <td>397</td>\n",
       "      <td>908390</td>\n",
       "      <td>908566</td>\n",
       "      <td>chr1</td>\n",
       "      <td>+</td>\n",
       "      <td>8</td>\n",
       "      <td>908390</td>\n",
       "      <td>908880</td>\n",
       "      <td>chr1</td>\n",
       "      <td>+</td>\n",
       "      <td>265</td>\n",
       "      <td>908706</td>\n",
       "      <td>908880</td>\n",
       "      <td>chr1</td>\n",
       "      <td>+</td>\n",
       "      <td>0.976401</td>\n",
       "    </tr>\n",
       "  </tbody>\n",
       "</table>\n",
       "</div>"
      ],
      "text/plain": [
       "       0       1       2     3  4     5       6       7     8  9     10  \\\n",
       "0   6463   14829   14970  chr1  -    40   14829   15796  chr1  -   1693   \n",
       "1      0   17055   17259  chr1  -  1745   17055   17606  chr1  -  12855   \n",
       "2  12855   17368   17606  chr1  -    30   17368   17915  chr1  -  13253   \n",
       "3   3579  787490  788051  chr1  +   469  787490  788771  chr1  +   5062   \n",
       "4    397  908390  908566  chr1  +     8  908390  908880  chr1  +    265   \n",
       "\n",
       "       11      12    13 14       psi  \n",
       "0   15038   15796  chr1  -  0.990287  \n",
       "1   17368   17606  chr1  -  0.786479  \n",
       "2   17742   17915  chr1  -  0.997707  \n",
       "3  788146  788771  chr1  +  0.902077  \n",
       "4  908706  908880  chr1  +  0.976401  "
      ]
     },
     "execution_count": 9,
     "metadata": {},
     "output_type": "execute_result"
    }
   ],
   "source": [
    "cass_filt.loc[:,'psi']=psi.values\n",
    "cass_filt.head()"
   ]
  },
  {
   "cell_type": "markdown",
   "metadata": {},
   "source": [
    "### sanity check"
   ]
  },
  {
   "cell_type": "code",
   "execution_count": 10,
   "metadata": {
    "collapsed": false
   },
   "outputs": [],
   "source": [
    "# same chroms\n",
    "assert 0==len(cass_filt[ (cass_filt[3]!=cass_filt[8]) |  (cass_filt[8]!=cass_filt[13])])\n",
    "\n",
    "#same strands\n",
    "assert 0==len(cass_filt[ (cass_filt[4]!=cass_filt[9]) |  (cass_filt[9]!=cass_filt[14])])"
   ]
  },
  {
   "cell_type": "code",
   "execution_count": 11,
   "metadata": {
    "collapsed": false
   },
   "outputs": [
    {
     "data": {
      "text/html": [
       "<div>\n",
       "<table border=\"1\" class=\"dataframe\">\n",
       "  <thead>\n",
       "    <tr style=\"text-align: right;\">\n",
       "      <th></th>\n",
       "      <th>chr</th>\n",
       "      <th>strand</th>\n",
       "      <th>pos1</th>\n",
       "      <th>pos2</th>\n",
       "      <th>pos3</th>\n",
       "      <th>pos4</th>\n",
       "      <th>psi</th>\n",
       "    </tr>\n",
       "  </thead>\n",
       "  <tbody>\n",
       "    <tr>\n",
       "      <th>0</th>\n",
       "      <td>chr1</td>\n",
       "      <td>-</td>\n",
       "      <td>14829</td>\n",
       "      <td>14970</td>\n",
       "      <td>15038</td>\n",
       "      <td>15796</td>\n",
       "      <td>0.990287</td>\n",
       "    </tr>\n",
       "    <tr>\n",
       "      <th>1</th>\n",
       "      <td>chr1</td>\n",
       "      <td>-</td>\n",
       "      <td>17055</td>\n",
       "      <td>17259</td>\n",
       "      <td>17368</td>\n",
       "      <td>17606</td>\n",
       "      <td>0.786479</td>\n",
       "    </tr>\n",
       "    <tr>\n",
       "      <th>2</th>\n",
       "      <td>chr1</td>\n",
       "      <td>-</td>\n",
       "      <td>17368</td>\n",
       "      <td>17606</td>\n",
       "      <td>17742</td>\n",
       "      <td>17915</td>\n",
       "      <td>0.997707</td>\n",
       "    </tr>\n",
       "    <tr>\n",
       "      <th>3</th>\n",
       "      <td>chr1</td>\n",
       "      <td>+</td>\n",
       "      <td>787490</td>\n",
       "      <td>788051</td>\n",
       "      <td>788146</td>\n",
       "      <td>788771</td>\n",
       "      <td>0.902077</td>\n",
       "    </tr>\n",
       "    <tr>\n",
       "      <th>4</th>\n",
       "      <td>chr1</td>\n",
       "      <td>+</td>\n",
       "      <td>908390</td>\n",
       "      <td>908566</td>\n",
       "      <td>908706</td>\n",
       "      <td>908880</td>\n",
       "      <td>0.976401</td>\n",
       "    </tr>\n",
       "  </tbody>\n",
       "</table>\n",
       "</div>"
      ],
      "text/plain": [
       "    chr strand    pos1    pos2    pos3    pos4       psi\n",
       "0  chr1      -   14829   14970   15038   15796  0.990287\n",
       "1  chr1      -   17055   17259   17368   17606  0.786479\n",
       "2  chr1      -   17368   17606   17742   17915  0.997707\n",
       "3  chr1      +  787490  788051  788146  788771  0.902077\n",
       "4  chr1      +  908390  908566  908706  908880  0.976401"
      ]
     },
     "execution_count": 11,
     "metadata": {},
     "output_type": "execute_result"
    }
   ],
   "source": [
    "prep_data=cass_filt[[3,4,1,2,11,7,'psi']]\n",
    "prep_data.columns=['chr','strand','pos1','pos2','pos3','pos4','psi']\n",
    "prep_data.head()"
   ]
  },
  {
   "cell_type": "markdown",
   "metadata": {},
   "source": [
    "## Create naive feature vectors"
   ]
  },
  {
   "cell_type": "code",
   "execution_count": 12,
   "metadata": {
    "collapsed": false
   },
   "outputs": [],
   "source": [
    "from bx.bbi.bigwig_file import BigWigFile\n",
    "datadir='/nagyvinyok/adat84/sotejedlik/ribli/expression/data/encode/'\n",
    "bw = BigWigFile( open( datadir+'hg38.phyloP100way.bw') )"
   ]
  },
  {
   "cell_type": "code",
   "execution_count": 15,
   "metadata": {
    "collapsed": false
   },
   "outputs": [],
   "source": [
    "def exon_to_csv(input_df,output_fname,txn_data,plus=100,minus=100):\n",
    "    \"\"\"\n",
    "    Create relatively small csv files from pandas df of probes.\n",
    "    \n",
    "    Used in naive prediction as feauture vectors.\n",
    "    \"\"\"\n",
    "\n",
    "    with open(output_fname,'w') as out_f:\n",
    "        for i in xrange(len(input_df)):\n",
    "            out_f.write(make_naive_line(input_df.iloc[i,:],plus,minus,txn_data))\n",
    "            \n",
    "def make_naive_line(line,plus,minus,txn_data):\n",
    "    \"\"\"Transform annotation line into naive feature vector line.\"\"\"\n",
    "    chrom,strand,pos1,pos2,pos3,pos4,psi=line\n",
    "    \n",
    "     #seq depending on strand\n",
    "    if strand=='+':\n",
    "        out_line = '\\t'.join(map(str,np.concatenate([\n",
    "                        getcons(chrom,pos1-minus,pos1+plus,bw),\n",
    "                        getcons(chrom,pos2-minus,pos2+plus,bw),\n",
    "                        getcons(chrom,pos3-minus,pos3+plus,bw),\n",
    "                        getcons(chrom,pos4-minus,pos4+plus,bw)])))\n",
    "    elif strand=='-':\n",
    "        out_line = '\\t'.join(map(str,np.concatenate([\n",
    "                        getcons(chrom,pos4-plus,pos4+minus,bw)[::-1],\n",
    "                        getcons(chrom,pos3-plus,pos3+minus,bw)[::-1],\n",
    "                        getcons(chrom,pos2-plus,pos2+minus,bw)[::-1],\n",
    "                        getcons(chrom,pos1-plus,pos1+minus,bw)[::-1]])))\n",
    "    \n",
    "    out_line+='\\t'+str(psi)+'\\n'\n",
    "    return out_line\n",
    "                \n",
    "def getcons(chrom,pos1,pos2,bwfile):\n",
    "    x=np.arange(pos1,pos2)\n",
    "    res=np.array([ np.nan_to_num(y['mean']) for y in bw.query(chrom,pos1,pos2,pos2-pos1) ])\n",
    "    return x,res"
   ]
  },
  {
   "cell_type": "code",
   "execution_count": null,
   "metadata": {
    "collapsed": false
   },
   "outputs": [],
   "source": [
    "start=time.time()\n",
    "out_fname='cons_feat_vect_200.csv'\n",
    "exon_to_csv(prep_data,output_fname=out_fname,txn_data=data,plus=200,minus=200)\n",
    "print 'it took :',time.time()-start,'s'"
   ]
  }
 ],
 "metadata": {
  "kernelspec": {
   "display_name": "Python 2",
   "language": "python",
   "name": "python2"
  },
  "language_info": {
   "codemirror_mode": {
    "name": "ipython",
    "version": 2
   },
   "file_extension": ".py",
   "mimetype": "text/x-python",
   "name": "python",
   "nbconvert_exporter": "python",
   "pygments_lexer": "ipython2",
   "version": "2.7.9"
  }
 },
 "nbformat": 4,
 "nbformat_minor": 0
}
