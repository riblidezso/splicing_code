{
 "cells": [
  {
   "cell_type": "code",
   "execution_count": 2,
   "metadata": {
    "collapsed": false
   },
   "outputs": [
    {
     "name": "stderr",
     "output_type": "stream",
     "text": [
      "/usr/local/lib/python2.7/dist-packages/IPython/html.py:14: ShimWarning: The `IPython.html` package has been deprecated. You should import from `notebook` instead. `IPython.html.widgets` has moved to `ipywidgets`.\n",
      "  \"`IPython.html.widgets` has moved to `ipywidgets`.\", ShimWarning)\n"
     ]
    }
   ],
   "source": [
    "import pandas as pd\n",
    "import numpy as np\n",
    "\n",
    "import matplotlib.pyplot as plt\n",
    "import matplotlib as mpl\n",
    "\n",
    "mpl.style.use('ggplot')\n",
    "%matplotlib inline\n",
    "\n",
    "import seaborn as sns"
   ]
  },
  {
   "cell_type": "code",
   "execution_count": 12,
   "metadata": {
    "collapsed": false
   },
   "outputs": [
    {
     "data": {
      "text/html": [
       "<div>\n",
       "<table border=\"1\" class=\"dataframe\">\n",
       "  <thead>\n",
       "    <tr style=\"text-align: right;\">\n",
       "      <th></th>\n",
       "      <th>chrom</th>\n",
       "      <th>pos1</th>\n",
       "      <th>pos2</th>\n",
       "      <th>name</th>\n",
       "      <th>val</th>\n",
       "      <th>x</th>\n",
       "      <th>y</th>\n",
       "      <th>z</th>\n",
       "    </tr>\n",
       "  </thead>\n",
       "  <tbody>\n",
       "    <tr>\n",
       "      <th>0</th>\n",
       "      <td>chr1</td>\n",
       "      <td>10073</td>\n",
       "      <td>10329</td>\n",
       "      <td>ZBTB33</td>\n",
       "      <td>354</td>\n",
       "      <td>2</td>\n",
       "      <td>204,246</td>\n",
       "      <td>354,138</td>\n",
       "    </tr>\n",
       "    <tr>\n",
       "      <th>1</th>\n",
       "      <td>chr1</td>\n",
       "      <td>10149</td>\n",
       "      <td>10413</td>\n",
       "      <td>CEBPB</td>\n",
       "      <td>201</td>\n",
       "      <td>1</td>\n",
       "      <td>343</td>\n",
       "      <td>201</td>\n",
       "    </tr>\n",
       "    <tr>\n",
       "      <th>2</th>\n",
       "      <td>chr1</td>\n",
       "      <td>16110</td>\n",
       "      <td>16390</td>\n",
       "      <td>CTCF</td>\n",
       "      <td>227</td>\n",
       "      <td>7</td>\n",
       "      <td>213,612,621,627,628,631,662</td>\n",
       "      <td>110,139,171,209,227,200,170</td>\n",
       "    </tr>\n",
       "    <tr>\n",
       "      <th>3</th>\n",
       "      <td>chr1</td>\n",
       "      <td>29198</td>\n",
       "      <td>29688</td>\n",
       "      <td>TAF1</td>\n",
       "      <td>184</td>\n",
       "      <td>1</td>\n",
       "      <td>157</td>\n",
       "      <td>184</td>\n",
       "    </tr>\n",
       "    <tr>\n",
       "      <th>4</th>\n",
       "      <td>chr1</td>\n",
       "      <td>29275</td>\n",
       "      <td>29591</td>\n",
       "      <td>GABPA</td>\n",
       "      <td>198</td>\n",
       "      <td>1</td>\n",
       "      <td>180</td>\n",
       "      <td>198</td>\n",
       "    </tr>\n",
       "  </tbody>\n",
       "</table>\n",
       "</div>"
      ],
      "text/plain": [
       "  chrom   pos1   pos2    name  val  x                            y  \\\n",
       "0  chr1  10073  10329  ZBTB33  354  2                      204,246   \n",
       "1  chr1  10149  10413   CEBPB  201  1                          343   \n",
       "2  chr1  16110  16390    CTCF  227  7  213,612,621,627,628,631,662   \n",
       "3  chr1  29198  29688    TAF1  184  1                          157   \n",
       "4  chr1  29275  29591   GABPA  198  1                          180   \n",
       "\n",
       "                             z  \n",
       "0                      354,138  \n",
       "1                          201  \n",
       "2  110,139,171,209,227,200,170  \n",
       "3                          184  \n",
       "4                          198  "
      ]
     },
     "execution_count": 12,
     "metadata": {},
     "output_type": "execute_result"
    }
   ],
   "source": [
    "datadir='/nagyvinyok/adat84/sotejedlik/ribli/expression/data/encode/'\n",
    "\n",
    "data=pd.read_csv(\n",
    "    datadir+'wgEncodeRegTfbsClusteredV3.bed',\n",
    "    sep='\\t',header=None)\n",
    "\n",
    "data.columns=['chrom','pos1','pos2','name','val','x','y','z']\n",
    "data.head()"
   ]
  },
  {
   "cell_type": "code",
   "execution_count": 6,
   "metadata": {
    "collapsed": false
   },
   "outputs": [
    {
     "data": {
      "image/png": "[encoded data removed]",
      "text/plain": [
       "<matplotlib.figure.Figure at 0x7fe98d971790>"
      ]
     },
     "metadata": {},
     "output_type": "display_data"
    }
   ],
   "source": [
    "plt.figure(figsize=(12,6))\n",
    "dump=sns.distplot(data[4],bins=100,kde=False)\n",
    "#dump=plt.xlim(0.01,0.99)\n",
    "#plt.ylim(0,200)"
   ]
  },
  {
   "cell_type": "code",
   "execution_count": 50,
   "metadata": {
    "collapsed": false
   },
   "outputs": [
    {
     "data": {
      "text/plain": [
       "array(['ARID3A', 'ATF1', 'ATF2', 'ATF3', 'BACH1', 'BATF', 'BCL11A', 'BCL3',\n",
       "       'BCLAF1', 'BDP1', 'BHLHE40', 'BRCA1', 'BRF1', 'BRF2', 'CBX3',\n",
       "       'CCNT2', 'CEBPB', 'CEBPD', 'CHD1', 'CHD2', 'CREB1', 'CTBP2', 'CTCF',\n",
       "       'CTCFL', 'E2F1', 'E2F4', 'E2F6', 'EBF1', 'EGR1', 'ELF1', 'ELK1',\n",
       "       'ELK4', 'EP300', 'ESR1', 'ESRRA', 'ETS1', 'EZH2', 'FAM48A', 'FOS',\n",
       "       'FOSL1', 'FOSL2', 'FOXA1', 'FOXA2', 'FOXM1', 'FOXP2', 'GABPA',\n",
       "       'GATA1', 'GATA2', 'GATA3', 'GRp20', 'GTF2B', 'GTF2F1', 'GTF3C2',\n",
       "       'HDAC1', 'HDAC2', 'HDAC6', 'HDAC8', 'HMGN3', 'HNF4A', 'HNF4G',\n",
       "       'HSF1', 'IKZF1', 'IRF1', 'IRF3', 'IRF4', 'JUN', 'JUNB', 'JUND',\n",
       "       'KAP1', 'KDM5A', 'KDM5B', 'MAFF', 'MAFK', 'MAX', 'MAZ', 'MBD4',\n",
       "       'MEF2A', 'MEF2C', 'MTA3', 'MXI1', 'MYBL2', 'MYC', 'NANOG', 'NFATC1',\n",
       "       'NFE2', 'NFIC', 'NFYA', 'NFYB', 'NR2C2', 'NR2F2', 'NR3C1', 'NRF1',\n",
       "       'PAX5', 'PBX3', 'PHF8', 'PML', 'POLR2A', 'POLR3G', 'POU2F2',\n",
       "       'POU5F1', 'PPARGC1A', 'PRDM1', 'RAD21', 'RBBP5', 'RCOR1', 'RDBP',\n",
       "       'RELA', 'REST', 'RFX5', 'RPC155', 'RUNX3', 'RXRA', 'SAP30',\n",
       "       'SETDB1', 'SIN3A', 'SIN3AK20', 'SIRT6', 'SIX5', 'SMARCA4',\n",
       "       'SMARCB1', 'SMARCC1', 'SMARCC2', 'SMC3', 'SP1', 'SP2', 'SP4',\n",
       "       'SPI1', 'SREBP1', 'SRF', 'STAT1', 'STAT2', 'STAT3', 'STAT5A',\n",
       "       'SUZ12', 'TAF1', 'TAF7', 'TAL1', 'TBL1XR1', 'TBP', 'TCF12', 'TCF3',\n",
       "       'TCF7L2', 'TEAD4', 'TFAP2A', 'TFAP2C', 'THAP1', 'TRIM28', 'UBTF',\n",
       "       'USF1', 'USF2', 'WRNIP1', 'YY1', 'ZBTB33', 'ZBTB7A', 'ZEB1',\n",
       "       'ZKSCAN1', 'ZNF143', 'ZNF217', 'ZNF263', 'ZNF274', 'ZZZ3'], dtype=object)"
      ]
     },
     "execution_count": 50,
     "metadata": {},
     "output_type": "execute_result"
    }
   ],
   "source": [
    "np.unique(data['name'])"
   ]
  },
  {
   "cell_type": "markdown",
   "metadata": {},
   "source": [
    "## Create some position-wise data"
   ]
  },
  {
   "cell_type": "code",
   "execution_count": 58,
   "metadata": {
    "collapsed": false
   },
   "outputs": [],
   "source": [
    "def getsum(chrom,pos1,pos2,data):\n",
    "    small_data=data[(data.chrom==chrom) & (data.pos1 < pos2) \n",
    "                    & (data.pos2 > pos1)][['chrom','pos1','pos2','val']]\n",
    "    \n",
    "    x=np.arange(pos1,pos2)\n",
    "    res=np.zeros(pos2-pos1)\n",
    "    for start,end,val in zip(small_data['pos1'],small_data['pos2'],small_data['val']):\n",
    "        res[start-pos1:end-pos1]+=val\n",
    "        \n",
    "    return x,res"
   ]
  },
  {
   "cell_type": "code",
   "execution_count": 59,
   "metadata": {
    "collapsed": false
   },
   "outputs": [
    {
     "data": {
      "text/plain": [
       "[<matplotlib.lines.Line2D at 0x7fe97e1e77d0>]"
      ]
     },
     "execution_count": 59,
     "metadata": {},
     "output_type": "execute_result"
    },
    {
     "data": {
      "image/png": "[encoded data removed]",
      "text/plain": [
       "<matplotlib.figure.Figure at 0x7fe97e2963d0>"
      ]
     },
     "metadata": {},
     "output_type": "display_data"
    }
   ],
   "source": [
    "x,res=getsum('chr1',1000000,1002000,data)\n",
    "plt.plot(x,res)"
   ]
  },
  {
   "cell_type": "code",
   "execution_count": 65,
   "metadata": {
    "collapsed": false
   },
   "outputs": [],
   "source": [
    "def get_det_sum(chrom,pos1,pos2,data):\n",
    "    small_data=data[(data.chrom==chrom) & (data.pos1 < pos2) \n",
    "                    & (data.pos2 > pos1)][['chrom','name','pos1','pos2','val']]\n",
    "    \n",
    "    x_l,res_l=[],[]\n",
    "    for name in np.unique(small_data.name):\n",
    "        temp_data=small_data[small_data.name==name]\n",
    "        x=np.arange(pos1,pos2)\n",
    "        res=np.zeros(pos2-pos1)\n",
    "        for start,end,val in zip(temp_data['pos1'],temp_data['pos2'],temp_data['val']):\n",
    "            res[start-pos1:end-pos1]+=val\n",
    "        x_l.append(x)\n",
    "        res_l.append(res)\n",
    "        \n",
    "    return x_l,res_l"
   ]
  },
  {
   "cell_type": "code",
   "execution_count": 68,
   "metadata": {
    "collapsed": false
   },
   "outputs": [
    {
     "data": {
      "image/png": "[encoded data removed]",
      "text/plain": [
       "<matplotlib.figure.Figure at 0x7fe9835aa7d0>"
      ]
     },
     "metadata": {},
     "output_type": "display_data"
    }
   ],
   "source": [
    "x_l,res_l=get_det_sum('chr1',1000000,1002000,data)\n",
    "for x,res in zip(x_l,res_l):\n",
    "    plt.plot(x,res)"
   ]
  }
 ],
 "metadata": {
  "kernelspec": {
   "display_name": "Python 2",
   "language": "python",
   "name": "python2"
  },
  "language_info": {
   "codemirror_mode": {
    "name": "ipython",
    "version": 2
   },
   "file_extension": ".py",
   "mimetype": "text/x-python",
   "name": "python",
   "nbconvert_exporter": "python",
   "pygments_lexer": "ipython2",
   "version": "2.7.9"
  }
 },
 "nbformat": 4,
 "nbformat_minor": 0
}
