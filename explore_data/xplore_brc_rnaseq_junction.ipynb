{
 "cells": [
  {
   "cell_type": "code",
   "execution_count": 1,
   "metadata": {
    "collapsed": false
   },
   "outputs": [],
   "source": [
    "import pandas as pd\n",
    "import numpy as np\n",
    "\n",
    "import matplotlib.pyplot as plt\n",
    "import matplotlib as mpl\n",
    "\n",
    "mpl.style.use('ggplot')\n",
    "%matplotlib inline"
   ]
  },
  {
   "cell_type": "markdown",
   "metadata": {},
   "source": [
    "### One patient"
   ]
  },
  {
   "cell_type": "code",
   "execution_count": 2,
   "metadata": {
    "collapsed": false
   },
   "outputs": [
    {
     "data": {
      "text/html": [
       "<div>\n",
       "<table border=\"1\" class=\"dataframe\">\n",
       "  <thead>\n",
       "    <tr style=\"text-align: right;\">\n",
       "      <th></th>\n",
       "      <th>junction</th>\n",
       "      <th>raw_counts</th>\n",
       "    </tr>\n",
       "  </thead>\n",
       "  <tbody>\n",
       "    <tr>\n",
       "      <th>0</th>\n",
       "      <td>chr1:12227:+,chr1:12595:+</td>\n",
       "      <td>0</td>\n",
       "    </tr>\n",
       "    <tr>\n",
       "      <th>1</th>\n",
       "      <td>chr1:12227:+,chr1:12613:+</td>\n",
       "      <td>0</td>\n",
       "    </tr>\n",
       "    <tr>\n",
       "      <th>2</th>\n",
       "      <td>chr1:12227:+,chr1:12646:+</td>\n",
       "      <td>0</td>\n",
       "    </tr>\n",
       "    <tr>\n",
       "      <th>3</th>\n",
       "      <td>chr1:12697:+,chr1:13221:+</td>\n",
       "      <td>0</td>\n",
       "    </tr>\n",
       "    <tr>\n",
       "      <th>4</th>\n",
       "      <td>chr1:12721:+,chr1:13221:+</td>\n",
       "      <td>0</td>\n",
       "    </tr>\n",
       "  </tbody>\n",
       "</table>\n",
       "</div>"
      ],
      "text/plain": [
       "                    junction  raw_counts\n",
       "0  chr1:12227:+,chr1:12595:+           0\n",
       "1  chr1:12227:+,chr1:12613:+           0\n",
       "2  chr1:12227:+,chr1:12646:+           0\n",
       "3  chr1:12697:+,chr1:13221:+           0\n",
       "4  chr1:12721:+,chr1:13221:+           0"
      ]
     },
     "execution_count": 2,
     "metadata": {},
     "output_type": "execute_result"
    }
   ],
   "source": [
    "datadir='/nagyvinyok/adat84/sotejedlik/ribli/expression/data/brca_rnaseq/'\n",
    "datadir+='RNASeqV2/UNC__IlluminaHiSeq_RNASeqV2/Level_3/'\n",
    "\n",
    "data=pd.read_csv(\n",
    "    datadir+'unc.edu.ffd6c7c5-d4c4-4ead-9e55-de8f6aa62182.2247564.junction_quantification.txt',\n",
    "    sep='\\t',header=0)\n",
    "\n",
    "data.head()"
   ]
  },
  {
   "cell_type": "code",
   "execution_count": 3,
   "metadata": {
    "collapsed": false
   },
   "outputs": [
    {
     "data": {
      "text/html": [
       "<div>\n",
       "<table border=\"1\" class=\"dataframe\">\n",
       "  <thead>\n",
       "    <tr style=\"text-align: right;\">\n",
       "      <th></th>\n",
       "      <th>raw_counts</th>\n",
       "      <th>pos1</th>\n",
       "      <th>pos2</th>\n",
       "      <th>chr</th>\n",
       "      <th>strand</th>\n",
       "    </tr>\n",
       "  </thead>\n",
       "  <tbody>\n",
       "    <tr>\n",
       "      <th>0</th>\n",
       "      <td>0</td>\n",
       "      <td>12227</td>\n",
       "      <td>12595</td>\n",
       "      <td>chr1</td>\n",
       "      <td>+</td>\n",
       "    </tr>\n",
       "    <tr>\n",
       "      <th>1</th>\n",
       "      <td>0</td>\n",
       "      <td>12227</td>\n",
       "      <td>12613</td>\n",
       "      <td>chr1</td>\n",
       "      <td>+</td>\n",
       "    </tr>\n",
       "    <tr>\n",
       "      <th>2</th>\n",
       "      <td>0</td>\n",
       "      <td>12227</td>\n",
       "      <td>12646</td>\n",
       "      <td>chr1</td>\n",
       "      <td>+</td>\n",
       "    </tr>\n",
       "    <tr>\n",
       "      <th>3</th>\n",
       "      <td>0</td>\n",
       "      <td>12697</td>\n",
       "      <td>13221</td>\n",
       "      <td>chr1</td>\n",
       "      <td>+</td>\n",
       "    </tr>\n",
       "    <tr>\n",
       "      <th>4</th>\n",
       "      <td>0</td>\n",
       "      <td>12721</td>\n",
       "      <td>13221</td>\n",
       "      <td>chr1</td>\n",
       "      <td>+</td>\n",
       "    </tr>\n",
       "  </tbody>\n",
       "</table>\n",
       "</div>"
      ],
      "text/plain": [
       "   raw_counts   pos1   pos2   chr strand\n",
       "0           0  12227  12595  chr1      +\n",
       "1           0  12227  12613  chr1      +\n",
       "2           0  12227  12646  chr1      +\n",
       "3           0  12697  13221  chr1      +\n",
       "4           0  12721  13221  chr1      +"
      ]
     },
     "execution_count": 3,
     "metadata": {},
     "output_type": "execute_result"
    }
   ],
   "source": [
    "data['chr1']=[x.split(',')[0].split(':')[0] for x in data.junction]\n",
    "data['chr2']=[x.split(',')[1].split(':')[0] for x in data.junction]\n",
    "\n",
    "data['pos1']=[int(x.split(',')[0].split(':')[1]) for x in data.junction]\n",
    "data['pos2']=[int(x.split(',')[1].split(':')[1]) for x in data.junction]\n",
    "\n",
    "data['strand1']=[x.split(',')[0].split(':')[2] for x in data.junction]\n",
    "data['strand2']=[x.split(',')[1].split(':')[2] for x in data.junction]\n",
    "\n",
    "\n",
    "data=data[data.chr1==data.chr2]\n",
    "data['chr']=data.chr1\n",
    "data.drop(['chr1','chr2'],axis=1,inplace=True)\n",
    "\n",
    "data=data[data.strand1==data.strand2]\n",
    "data['strand']=data.strand1\n",
    "data.drop(['strand1','strand2'],axis=1,inplace=True)\n",
    "\n",
    "data.drop('junction',axis=1,inplace=True)\n",
    "\n",
    "data.head()"
   ]
  },
  {
   "cell_type": "markdown",
   "metadata": {},
   "source": [
    "### Select cassette like triplets"
   ]
  },
  {
   "cell_type": "code",
   "execution_count": 5,
   "metadata": {
    "collapsed": false
   },
   "outputs": [
    {
     "data": {
      "text/html": [
       "<div>\n",
       "<table border=\"1\" class=\"dataframe\">\n",
       "  <thead>\n",
       "    <tr style=\"text-align: right;\">\n",
       "      <th></th>\n",
       "      <th>0</th>\n",
       "      <th>1</th>\n",
       "      <th>2</th>\n",
       "      <th>3</th>\n",
       "      <th>4</th>\n",
       "      <th>5</th>\n",
       "      <th>6</th>\n",
       "      <th>7</th>\n",
       "      <th>8</th>\n",
       "      <th>9</th>\n",
       "      <th>10</th>\n",
       "      <th>11</th>\n",
       "      <th>12</th>\n",
       "      <th>13</th>\n",
       "      <th>14</th>\n",
       "    </tr>\n",
       "  </thead>\n",
       "  <tbody>\n",
       "    <tr>\n",
       "      <th>0</th>\n",
       "      <td>278</td>\n",
       "      <td>14829</td>\n",
       "      <td>14970</td>\n",
       "      <td>chr1</td>\n",
       "      <td>-</td>\n",
       "      <td>0</td>\n",
       "      <td>14829</td>\n",
       "      <td>15796</td>\n",
       "      <td>chr1</td>\n",
       "      <td>-</td>\n",
       "      <td>0</td>\n",
       "      <td>15038</td>\n",
       "      <td>15796</td>\n",
       "      <td>chr1</td>\n",
       "      <td>-</td>\n",
       "    </tr>\n",
       "    <tr>\n",
       "      <th>1</th>\n",
       "      <td>0</td>\n",
       "      <td>17055</td>\n",
       "      <td>17259</td>\n",
       "      <td>chr1</td>\n",
       "      <td>-</td>\n",
       "      <td>12</td>\n",
       "      <td>17055</td>\n",
       "      <td>17606</td>\n",
       "      <td>chr1</td>\n",
       "      <td>-</td>\n",
       "      <td>64</td>\n",
       "      <td>17368</td>\n",
       "      <td>17606</td>\n",
       "      <td>chr1</td>\n",
       "      <td>-</td>\n",
       "    </tr>\n",
       "    <tr>\n",
       "      <th>2</th>\n",
       "      <td>64</td>\n",
       "      <td>17368</td>\n",
       "      <td>17606</td>\n",
       "      <td>chr1</td>\n",
       "      <td>-</td>\n",
       "      <td>0</td>\n",
       "      <td>17368</td>\n",
       "      <td>17915</td>\n",
       "      <td>chr1</td>\n",
       "      <td>-</td>\n",
       "      <td>137</td>\n",
       "      <td>17742</td>\n",
       "      <td>17915</td>\n",
       "      <td>chr1</td>\n",
       "      <td>-</td>\n",
       "    </tr>\n",
       "    <tr>\n",
       "      <th>3</th>\n",
       "      <td>13</td>\n",
       "      <td>787490</td>\n",
       "      <td>788051</td>\n",
       "      <td>chr1</td>\n",
       "      <td>+</td>\n",
       "      <td>1</td>\n",
       "      <td>787490</td>\n",
       "      <td>788771</td>\n",
       "      <td>chr1</td>\n",
       "      <td>+</td>\n",
       "      <td>25</td>\n",
       "      <td>788146</td>\n",
       "      <td>788771</td>\n",
       "      <td>chr1</td>\n",
       "      <td>+</td>\n",
       "    </tr>\n",
       "    <tr>\n",
       "      <th>4</th>\n",
       "      <td>6</td>\n",
       "      <td>908390</td>\n",
       "      <td>908566</td>\n",
       "      <td>chr1</td>\n",
       "      <td>+</td>\n",
       "      <td>0</td>\n",
       "      <td>908390</td>\n",
       "      <td>908880</td>\n",
       "      <td>chr1</td>\n",
       "      <td>+</td>\n",
       "      <td>9</td>\n",
       "      <td>908706</td>\n",
       "      <td>908880</td>\n",
       "      <td>chr1</td>\n",
       "      <td>+</td>\n",
       "    </tr>\n",
       "  </tbody>\n",
       "</table>\n",
       "</div>"
      ],
      "text/plain": [
       "    0       1       2     3  4   5       6       7     8  9    10      11  \\\n",
       "0  278   14829   14970  chr1  -   0   14829   15796  chr1  -    0   15038   \n",
       "1    0   17055   17259  chr1  -  12   17055   17606  chr1  -   64   17368   \n",
       "2   64   17368   17606  chr1  -   0   17368   17915  chr1  -  137   17742   \n",
       "3   13  787490  788051  chr1  +   1  787490  788771  chr1  +   25  788146   \n",
       "4    6  908390  908566  chr1  +   0  908390  908880  chr1  +    9  908706   \n",
       "\n",
       "       12    13 14  \n",
       "0   15796  chr1  -  \n",
       "1   17606  chr1  -  \n",
       "2   17915  chr1  -  \n",
       "3  788771  chr1  +  \n",
       "4  908880  chr1  +  "
      ]
     },
     "execution_count": 5,
     "metadata": {},
     "output_type": "execute_result"
    }
   ],
   "source": [
    "jctrip=pd.concat([data[:-2],data[1:-1].reset_index(drop=True),data[2:].reset_index(drop=True)],axis=1,ignore_index=True)\n",
    "\n",
    "cass=jctrip[ (jctrip[1]==jctrip[6]) & (jctrip[7]==jctrip[12]) ].reset_index(drop=True)\n",
    "\n",
    "cass.head()"
   ]
  },
  {
   "cell_type": "markdown",
   "metadata": {},
   "source": [
    "### Calculate Psi"
   ]
  },
  {
   "cell_type": "code",
   "execution_count": 5,
   "metadata": {
    "collapsed": false
   },
   "outputs": [],
   "source": [
    "#mapping control\n",
    "cass_filt=cass[cass[0]+cass[5]+cass[10] > 20]\n",
    "\n",
    "n_inc= cass_filt[0]+cass_filt[10]\n",
    "n_exc= cass_filt[5]\n",
    "psi=0.5* n_inc /(0.5 * n_inc + n_exc)\n",
    "\n",
    "reg_psi=psi.values[~np.isnan(psi.values) & (psi.values!=np.inf)]"
   ]
  },
  {
   "cell_type": "code",
   "execution_count": 6,
   "metadata": {
    "collapsed": false
   },
   "outputs": [
    {
     "data": {
      "image/png": "[encoded data removed]",
      "text/plain": [
       "<matplotlib.figure.Figure at 0x7f6ba3f4b0d0>"
      ]
     },
     "metadata": {},
     "output_type": "display_data"
    }
   ],
   "source": [
    "plt.figure(figsize=(12,6))\n",
    "dump=plt.hist(reg_psi,bins=100,edgecolor='none')"
   ]
  },
  {
   "cell_type": "code",
   "execution_count": 11,
   "metadata": {
    "collapsed": false
   },
   "outputs": [
    {
     "data": {
      "image/png": "[encoded data removed]",
      "text/plain": [
       "<matplotlib.figure.Figure at 0x7f6b99d01b50>"
      ]
     },
     "metadata": {},
     "output_type": "display_data"
    }
   ],
   "source": [
    "import seaborn as sns\n",
    "plt.figure(figsize=(12,6))\n",
    "dump=sns.distplot(reg_psi,bins=100,kde=False)\n",
    "plt.yscale('log')"
   ]
  },
  {
   "cell_type": "code",
   "execution_count": 12,
   "metadata": {
    "collapsed": false
   },
   "outputs": [
    {
     "data": {
      "text/plain": [
       "(0, 200)"
      ]
     },
     "execution_count": 12,
     "metadata": {},
     "output_type": "execute_result"
    },
    {
     "data": {
      "image/png": "[encoded data removed]",
      "text/plain": [
       "<matplotlib.figure.Figure at 0x7f6b99f044d0>"
      ]
     },
     "metadata": {},
     "output_type": "display_data"
    }
   ],
   "source": [
    "plt.figure(figsize=(12,6))\n",
    "dump=sns.distplot(reg_psi,bins=100,kde=False)\n",
    "dump=plt.xlim(0.01,0.99)\n",
    "plt.ylim(0,200)"
   ]
  },
  {
   "cell_type": "markdown",
   "metadata": {},
   "source": [
    "### All"
   ]
  },
  {
   "cell_type": "code",
   "execution_count": 13,
   "metadata": {
    "collapsed": false
   },
   "outputs": [],
   "source": [
    "fs_map=pd.read_csv(\n",
    "    '/nagyvinyok/adat84/sotejedlik/ribli/expression/data/brca_rnaseq/FILE_SAMPLE_MAP.txt',sep='\\t')\n",
    "fs_map=fs_map.iloc[:-1,:]\n",
    "fs_dict={}\n",
    "for i in xrange(len(fs_map)):\n",
    "    fs_dict[fs_map.iloc[i,0]]=fs_map.iloc[i,1]\n",
    "    \n",
    "    \n",
    "tum_dict={}\n",
    "for i in xrange(len(fs_map)):\n",
    "    if ( fs_map.iloc[i,1].split('-')[3][0]=='0'):\n",
    "        tum_dict[fs_map.iloc[i,0]]='tumor'\n",
    "    else:\n",
    "        tum_dict[fs_map.iloc[i,0]]='normal'"
   ]
  },
  {
   "cell_type": "markdown",
   "metadata": {},
   "source": [
    "### Load all normal"
   ]
  },
  {
   "cell_type": "code",
   "execution_count": 14,
   "metadata": {
    "collapsed": false
   },
   "outputs": [
    {
     "name": "stdout",
     "output_type": "stream",
     "text": [
      ". . . . . . . . . . . . . . . . . . . . . . . . . . . . . . . . . . . . . . . . . . . . . . . . . . . . . . . . . . . . . . . . . . . . . . . . . . . . . . . . . . . . . . . . . . . . . . . . . . . . 100 . . . . . . . . . . . . . . . . . . . . . . . . . . . . . . . . . . . . . . . . . . . . . . . . . . . . . . . . . . . . . . . . . . . . . . . . . . . . . . . . . . . . . . . . . . . . . . . . . . . . 200 . . . . . . . . . . . . . . . . . . . . . . . . . . . . . . . . . . . . . . . . . . . . . . . . . . . . . . . . . . . . . . . . . . . . . . . . . . . . . . . . . . . . . . . . . . . . . . . . . . . . 300 . . . . . . . . . . . . . . . . . . . . . . . . . . . . . . . . . . . . . . . . . . . . . . . . . . . . . . . . . . . . . . . . . . . . . . . . . . . . . . . . . . . . . . . . . . . . . . . . . . . . 400 . . . . . . . . . . . . . . . . . . . . . . . . . . . . . . . . . . . . . . . . . . . . . . . . . . . . . . . . . . . . . . . . . . . . . . . . . . . . . . . . . . . . . . . . . . . . . . . . . . . . 500 . . . . . . . . . . . . . . . . . . . . . . . . . . . . . . . . . . . . . . . . . . . . . . . . . . . . . . . . . . . . . . . . . . . . . . . . . . . . . . . . . . . . . . . . . . . . . . . . . . . . 600 . . . . . . . . . . . . . . . . . . . . . . . . . . . . . . . . . . . . . . . . . . . . . . . . . . . . . . . . . . . . . . . . . . . . . . . . . . . . . . . . . . . . . . . . . . . . . . . . . . . . 700 . . . . . . . . . . . . . . . . . . . . . . . . . . . . . . . . . . . . . . . . . . . . . . . . . . . . . . . . . . . . . . . . . . . . . . . . . . . . . . . . . . . . . . . . . . . . . . . . . . . . 800 . . . . . . . . . . . . . . . . . . . . . . . . . . . . . . . . . . . . . . . . . . . . . . . . . . . . . . . . . . . . . . . . . . . . . . . . . . . . . . . . . . . . . . . . . . . . . . . . . . . . 900 . . . . . . . . . . . . . . . . . . . . . . . . . . . . . . . . . . . . . . . . . . . . . . . . . . . . . . . . . . . . . . . . . . . . . . . . . . . . . . . . . . . . . . . . . . . . . . . . . . . . 1000 . . . . . . . . . . . . . . . . . . . . . . . . . . . . . . . . . . . . . . . . . . . . . . . . . . . . . . . . . . . . . . . . . . . . . . . . . . . . . . . . . . . . . . . . . . . . . . . . . . . . 1100 . . . . . . . . . . . . . . . . . . . . . . . . . . . . . . . . . . . . . . . . . . . . . . . . . . . . . . . . . . . . . . . . . . . . . . . . . . . . . . . . . . . . . . . . . . . . . . . . . . . . 1200 . . . . . . . . . . . . . . .\n"
     ]
    }
   ],
   "source": [
    "import gc\n",
    "import os\n",
    "from glob import glob\n",
    "df_list,tum_list,norm_list=[],[],[]\n",
    "gene_df=pd.DataFrame()\n",
    "i=0\n",
    "for filename in glob(datadir+'*junction_quantification.txt'):\n",
    "    fname=os.path.basename(filename)\n",
    "    \n",
    "    #df_list.append(tmp_df[['RPKM']])\n",
    "    if tum_dict[fname]=='tumor':\n",
    "        'nothing'\n",
    "        #tum_list.append(tmp_df[['RPKM']])\n",
    "    else:\n",
    "        tmp_df=pd.read_csv(filename, sep='\\t',header=0)\n",
    "        gene_df=tmp_df.junction\n",
    "        norm_list.append(tmp_df[['raw_counts']])\n",
    "        \n",
    "    print '.',\n",
    "    i+=1\n",
    "    if i%100==0:\n",
    "        print i,\n",
    "    gc.collect()"
   ]
  },
  {
   "cell_type": "code",
   "execution_count": 15,
   "metadata": {
    "collapsed": false
   },
   "outputs": [],
   "source": [
    "#data_matrix=pd.concat([gene_df]+df_list,axis=1)\n",
    "n_data_matrix=pd.concat([gene_df]+norm_list,axis=1)\n",
    "#t_data_matrix=pd.concat([gene_df]+tum_list,axis=1)"
   ]
  },
  {
   "cell_type": "code",
   "execution_count": 21,
   "metadata": {
    "collapsed": false
   },
   "outputs": [],
   "source": [
    "data=pd.concat([gene_df]+[n_data_matrix.drop('junction',axis=1).sum(axis=1)],axis=1)"
   ]
  },
  {
   "cell_type": "code",
   "execution_count": 23,
   "metadata": {
    "collapsed": false
   },
   "outputs": [
    {
     "data": {
      "text/html": [
       "<div>\n",
       "<table border=\"1\" class=\"dataframe\">\n",
       "  <thead>\n",
       "    <tr style=\"text-align: right;\">\n",
       "      <th></th>\n",
       "      <th>0</th>\n",
       "      <th>pos1</th>\n",
       "      <th>pos2</th>\n",
       "      <th>chr</th>\n",
       "      <th>strand</th>\n",
       "    </tr>\n",
       "  </thead>\n",
       "  <tbody>\n",
       "    <tr>\n",
       "      <th>0</th>\n",
       "      <td>0</td>\n",
       "      <td>12227</td>\n",
       "      <td>12595</td>\n",
       "      <td>chr1</td>\n",
       "      <td>+</td>\n",
       "    </tr>\n",
       "    <tr>\n",
       "      <th>1</th>\n",
       "      <td>3</td>\n",
       "      <td>12227</td>\n",
       "      <td>12613</td>\n",
       "      <td>chr1</td>\n",
       "      <td>+</td>\n",
       "    </tr>\n",
       "    <tr>\n",
       "      <th>2</th>\n",
       "      <td>0</td>\n",
       "      <td>12227</td>\n",
       "      <td>12646</td>\n",
       "      <td>chr1</td>\n",
       "      <td>+</td>\n",
       "    </tr>\n",
       "    <tr>\n",
       "      <th>3</th>\n",
       "      <td>2</td>\n",
       "      <td>12697</td>\n",
       "      <td>13221</td>\n",
       "      <td>chr1</td>\n",
       "      <td>+</td>\n",
       "    </tr>\n",
       "    <tr>\n",
       "      <th>4</th>\n",
       "      <td>0</td>\n",
       "      <td>12721</td>\n",
       "      <td>13221</td>\n",
       "      <td>chr1</td>\n",
       "      <td>+</td>\n",
       "    </tr>\n",
       "  </tbody>\n",
       "</table>\n",
       "</div>"
      ],
      "text/plain": [
       "   0   pos1   pos2   chr strand\n",
       "0  0  12227  12595  chr1      +\n",
       "1  3  12227  12613  chr1      +\n",
       "2  0  12227  12646  chr1      +\n",
       "3  2  12697  13221  chr1      +\n",
       "4  0  12721  13221  chr1      +"
      ]
     },
     "execution_count": 23,
     "metadata": {},
     "output_type": "execute_result"
    }
   ],
   "source": [
    "data['chr1']=[x.split(',')[0].split(':')[0] for x in data.junction]\n",
    "data['chr2']=[x.split(',')[1].split(':')[0] for x in data.junction]\n",
    "\n",
    "data['pos1']=[int(x.split(',')[0].split(':')[1]) for x in data.junction]\n",
    "data['pos2']=[int(x.split(',')[1].split(':')[1]) for x in data.junction]\n",
    "\n",
    "data['strand1']=[x.split(',')[0].split(':')[2] for x in data.junction]\n",
    "data['strand2']=[x.split(',')[1].split(':')[2] for x in data.junction]\n",
    "\n",
    "\n",
    "data=data[data.chr1==data.chr2]\n",
    "data['chr']=data.chr1\n",
    "data.drop(['chr1','chr2'],axis=1,inplace=True)\n",
    "\n",
    "data=data[data.strand1==data.strand2]\n",
    "data['strand']=data.strand1\n",
    "data.drop(['strand1','strand2'],axis=1,inplace=True)\n",
    "\n",
    "data.drop('junction',axis=1,inplace=True)\n",
    "\n",
    "data.head()"
   ]
  },
  {
   "cell_type": "code",
   "execution_count": 24,
   "metadata": {
    "collapsed": false
   },
   "outputs": [
    {
     "data": {
      "text/html": [
       "<div>\n",
       "<table border=\"1\" class=\"dataframe\">\n",
       "  <thead>\n",
       "    <tr style=\"text-align: right;\">\n",
       "      <th></th>\n",
       "      <th>0</th>\n",
       "      <th>1</th>\n",
       "      <th>2</th>\n",
       "      <th>3</th>\n",
       "      <th>4</th>\n",
       "      <th>5</th>\n",
       "      <th>6</th>\n",
       "      <th>7</th>\n",
       "      <th>8</th>\n",
       "      <th>9</th>\n",
       "      <th>10</th>\n",
       "      <th>11</th>\n",
       "      <th>12</th>\n",
       "      <th>13</th>\n",
       "      <th>14</th>\n",
       "    </tr>\n",
       "  </thead>\n",
       "  <tbody>\n",
       "    <tr>\n",
       "      <th>0</th>\n",
       "      <td>6463</td>\n",
       "      <td>14829</td>\n",
       "      <td>14970</td>\n",
       "      <td>chr1</td>\n",
       "      <td>-</td>\n",
       "      <td>40</td>\n",
       "      <td>14829</td>\n",
       "      <td>15796</td>\n",
       "      <td>chr1</td>\n",
       "      <td>-</td>\n",
       "      <td>1693</td>\n",
       "      <td>15038</td>\n",
       "      <td>15796</td>\n",
       "      <td>chr1</td>\n",
       "      <td>-</td>\n",
       "    </tr>\n",
       "    <tr>\n",
       "      <th>1</th>\n",
       "      <td>0</td>\n",
       "      <td>17055</td>\n",
       "      <td>17259</td>\n",
       "      <td>chr1</td>\n",
       "      <td>-</td>\n",
       "      <td>1745</td>\n",
       "      <td>17055</td>\n",
       "      <td>17606</td>\n",
       "      <td>chr1</td>\n",
       "      <td>-</td>\n",
       "      <td>12855</td>\n",
       "      <td>17368</td>\n",
       "      <td>17606</td>\n",
       "      <td>chr1</td>\n",
       "      <td>-</td>\n",
       "    </tr>\n",
       "    <tr>\n",
       "      <th>2</th>\n",
       "      <td>12855</td>\n",
       "      <td>17368</td>\n",
       "      <td>17606</td>\n",
       "      <td>chr1</td>\n",
       "      <td>-</td>\n",
       "      <td>30</td>\n",
       "      <td>17368</td>\n",
       "      <td>17915</td>\n",
       "      <td>chr1</td>\n",
       "      <td>-</td>\n",
       "      <td>13253</td>\n",
       "      <td>17742</td>\n",
       "      <td>17915</td>\n",
       "      <td>chr1</td>\n",
       "      <td>-</td>\n",
       "    </tr>\n",
       "    <tr>\n",
       "      <th>3</th>\n",
       "      <td>3579</td>\n",
       "      <td>787490</td>\n",
       "      <td>788051</td>\n",
       "      <td>chr1</td>\n",
       "      <td>+</td>\n",
       "      <td>469</td>\n",
       "      <td>787490</td>\n",
       "      <td>788771</td>\n",
       "      <td>chr1</td>\n",
       "      <td>+</td>\n",
       "      <td>5062</td>\n",
       "      <td>788146</td>\n",
       "      <td>788771</td>\n",
       "      <td>chr1</td>\n",
       "      <td>+</td>\n",
       "    </tr>\n",
       "    <tr>\n",
       "      <th>4</th>\n",
       "      <td>397</td>\n",
       "      <td>908390</td>\n",
       "      <td>908566</td>\n",
       "      <td>chr1</td>\n",
       "      <td>+</td>\n",
       "      <td>8</td>\n",
       "      <td>908390</td>\n",
       "      <td>908880</td>\n",
       "      <td>chr1</td>\n",
       "      <td>+</td>\n",
       "      <td>265</td>\n",
       "      <td>908706</td>\n",
       "      <td>908880</td>\n",
       "      <td>chr1</td>\n",
       "      <td>+</td>\n",
       "    </tr>\n",
       "  </tbody>\n",
       "</table>\n",
       "</div>"
      ],
      "text/plain": [
       "      0       1       2     3  4     5       6       7     8  9      10  \\\n",
       "0   6463   14829   14970  chr1  -    40   14829   15796  chr1  -   1693   \n",
       "1      0   17055   17259  chr1  -  1745   17055   17606  chr1  -  12855   \n",
       "2  12855   17368   17606  chr1  -    30   17368   17915  chr1  -  13253   \n",
       "3   3579  787490  788051  chr1  +   469  787490  788771  chr1  +   5062   \n",
       "4    397  908390  908566  chr1  +     8  908390  908880  chr1  +    265   \n",
       "\n",
       "       11      12    13 14  \n",
       "0   15038   15796  chr1  -  \n",
       "1   17368   17606  chr1  -  \n",
       "2   17742   17915  chr1  -  \n",
       "3  788146  788771  chr1  +  \n",
       "4  908706  908880  chr1  +  "
      ]
     },
     "execution_count": 24,
     "metadata": {},
     "output_type": "execute_result"
    }
   ],
   "source": [
    "jctrip=pd.concat([data[:-2],data[1:-1].reset_index(drop=True),data[2:].reset_index(drop=True)],axis=1,ignore_index=True)\n",
    "\n",
    "cass=jctrip[ (jctrip[1]==jctrip[6]) & (jctrip[7]==jctrip[12]) ].reset_index(drop=True)\n",
    "\n",
    "cass.head()"
   ]
  },
  {
   "cell_type": "code",
   "execution_count": 25,
   "metadata": {
    "collapsed": true
   },
   "outputs": [],
   "source": [
    "#mapping control\n",
    "cass_filt=cass[cass[0]+cass[5]+cass[10] > 20]\n",
    "\n",
    "n_inc= cass_filt[0]+cass_filt[10]\n",
    "n_exc= cass_filt[5]\n",
    "psi=0.5* n_inc /(0.5 * n_inc + n_exc)\n",
    "\n",
    "reg_psi=psi.values[~np.isnan(psi.values) & (psi.values!=np.inf)]"
   ]
  },
  {
   "cell_type": "code",
   "execution_count": 38,
   "metadata": {
    "collapsed": false
   },
   "outputs": [
    {
     "data": {
      "image/png": "[encoded data removed]",
      "text/plain": [
       "<matplotlib.figure.Figure at 0x7f6b9a2a1950>"
      ]
     },
     "metadata": {},
     "output_type": "display_data"
    }
   ],
   "source": [
    "plt.figure(figsize=(12,6))\n",
    "dump=sns.distplot(reg_psi,bins=50,kde=False)"
   ]
  },
  {
   "cell_type": "code",
   "execution_count": 37,
   "metadata": {
    "collapsed": false
   },
   "outputs": [
    {
     "data": {
      "image/png": "[encoded data removed]",
      "text/plain": [
       "<matplotlib.figure.Figure at 0x7f6b9e1d5450>"
      ]
     },
     "metadata": {},
     "output_type": "display_data"
    }
   ],
   "source": [
    "plt.figure(figsize=(12,6))\n",
    "dump=sns.distplot(reg_psi,bins=50,kde=False)\n",
    "plt.yscale('log')"
   ]
  },
  {
   "cell_type": "code",
   "execution_count": 43,
   "metadata": {
    "collapsed": false
   },
   "outputs": [
    {
     "data": {
      "text/plain": [
       "(0, 600)"
      ]
     },
     "execution_count": 43,
     "metadata": {},
     "output_type": "execute_result"
    },
    {
     "data": {
      "image/png": "[encoded data removed]",
      "text/plain": [
       "<matplotlib.figure.Figure at 0x7f6b9a0ce990>"
      ]
     },
     "metadata": {},
     "output_type": "display_data"
    }
   ],
   "source": [
    "plt.figure(figsize=(12,6))\n",
    "dump=sns.distplot(reg_psi,bins=50,kde=False)\n",
    "dump=plt.xlim(0.02,0.98)\n",
    "plt.ylim(0,600)"
   ]
  }
 ],
 "metadata": {
  "kernelspec": {
   "display_name": "Python 2",
   "language": "python",
   "name": "python2"
  },
  "language_info": {
   "codemirror_mode": {
    "name": "ipython",
    "version": 2
   },
   "file_extension": ".py",
   "mimetype": "text/x-python",
   "name": "python",
   "nbconvert_exporter": "python",
   "pygments_lexer": "ipython2",
   "version": "2.7.9"
  }
 },
 "nbformat": 4,
 "nbformat_minor": 0
}
